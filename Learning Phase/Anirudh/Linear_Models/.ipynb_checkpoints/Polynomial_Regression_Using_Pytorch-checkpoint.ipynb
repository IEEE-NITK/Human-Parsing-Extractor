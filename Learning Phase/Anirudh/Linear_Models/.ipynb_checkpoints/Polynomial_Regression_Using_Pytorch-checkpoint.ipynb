{
 "cells": [
  {
   "cell_type": "code",
   "execution_count": 1,
   "metadata": {},
   "outputs": [],
   "source": [
    "# Importing Libraries\n",
    "import torch\n",
    "import pandas as pd\n",
    "import matplotlib.pyplot as plt"
   ]
  },
  {
   "cell_type": "code",
   "execution_count": 2,
   "metadata": {},
   "outputs": [],
   "source": [
    "# Import Dataset\n",
    "df = pd.read_csv('ex1data1.csv')\n",
    "\n",
    "X = torch.tensor(df['W'].values).reshape(df['W'].shape[0], 1).T\n",
    "X = torch.cat((X, torch.pow(X, 2)))\n",
    "X = X.T\n",
    "y = torch.tensor(df['Y'].values).reshape(df['Y'].shape[0], 1)\n",
    "\n",
    "X = X.float()\n",
    "y = y.float()"
   ]
  },
  {
   "cell_type": "code",
   "execution_count": 3,
   "metadata": {},
   "outputs": [],
   "source": [
    "class PolynomialRegressionModel(torch.nn.Module):\n",
    "    def __init__(self, n_features):\n",
    "        super().__init__()\n",
    "        self.linear = torch.nn.Linear(n_features, 1)\n",
    "    \n",
    "    def forward(self, x):\n",
    "        return self.linear(x)\n",
    "  \n",
    "    def train(self, X, y, EPOCHS, learning_rate, verbose):\n",
    "        criterion = torch.nn.MSELoss()\n",
    "        optimizer = torch.optim.SGD(self.parameters(), lr = learning_rate)\n",
    "\n",
    "        for epoch in range(EPOCHS):\n",
    "            # Forward Pass\n",
    "            y_pred = self(X)\n",
    "            loss = criterion(y_pred, y)\n",
    "\n",
    "            # Backward Pass\n",
    "            optimizer.zero_grad()\n",
    "            loss.backward()\n",
    "            optimizer.step()\n",
    "\n",
    "            if epoch % (EPOCHS // verbose) == 0: \n",
    "                print(f\"Epoch : {epoch} | loss : {loss}\")\n",
    "\n",
    "        print(f\"Epoch : {EPOCHS} | loss : {loss}\")\n",
    "        "
   ]
  },
  {
   "cell_type": "code",
   "execution_count": 4,
   "metadata": {},
   "outputs": [],
   "source": [
    "def plot_curve(X, y, model):\n",
    "    y_pred = []\n",
    "\n",
    "    curve_start, _ = torch.min(X.T[0], 0)\n",
    "    curve_end, _ = torch.max(X.T[0], 0) \n",
    "\n",
    "    curve_start = int(curve_start.item()) - 2\n",
    "    curve_end = int(curve_end.item()) + 2\n",
    "\n",
    "    for x in range(curve_start, curve_end):\n",
    "        x = torch.Tensor([[x, x * x]])\n",
    "        y_pred.append(model(x))\n",
    "\n",
    "    plt.title(\"Labels vs Features\")\n",
    "    plt.xlabel(\"Features\")\n",
    "    plt.ylabel(\"Labels / Predictions\")\n",
    "    plt.scatter(X.T[0].T, y)\n",
    "    plt.plot(range(curve_start, curve_end), y_pred, 'k')\n",
    "    plt.show()\n"
   ]
  },
  {
   "cell_type": "code",
   "execution_count": 7,
   "metadata": {},
   "outputs": [
    {
     "name": "stdout",
     "output_type": "stream",
     "text": [
      "Epoch : 0 | loss : 7911.134765625\n",
      "Epoch : 10000 | loss : 9.265226364135742\n",
      "Epoch : 20000 | loss : 9.201217651367188\n",
      "Epoch : 30000 | loss : 9.16628646850586\n",
      "Epoch : 40000 | loss : 9.14720630645752\n",
      "Epoch : 50000 | loss : 9.136749267578125\n",
      "Epoch : 60000 | loss : 9.130992889404297\n",
      "Epoch : 70000 | loss : 9.127754211425781\n",
      "Epoch : 80000 | loss : 9.125968933105469\n",
      "Epoch : 90000 | loss : 9.124911308288574\n",
      "Epoch : 100000 | loss : 9.124238014221191\n"
     ]
    },
    {
     "data": {
      "image/png": "[encoded data removed]",
      "text/plain": [
       "<Figure size 432x288 with 1 Axes>"
      ]
     },
     "metadata": {
      "needs_background": "light"
     },
     "output_type": "display_data"
    }
   ],
   "source": [
    "# Model Instance\n",
    "polynomial_regression_model = PolynomialRegressionModel(2)\n",
    "polynomial_regression_model.train(X, y, EPOCHS = 100000, learning_rate = 0.000001, verbose = 10)\n",
    "\n",
    "\n",
    "# Plotting to see the curve\n",
    "plot_curve(X, y, polynomial_regression_model)"
   ]
  },
  {
   "cell_type": "code",
   "execution_count": 8,
   "metadata": {},
   "outputs": [],
   "source": [
    "# Note : Training Time can be significantly reduced by normalizing the features."
   ]
  }
 ],
 "metadata": {
  "kernelspec": {
   "display_name": "Python [conda env:HumanParsingIEEE] *",
   "language": "python",
   "name": "conda-env-HumanParsingIEEE-py"
  },
  "language_info": {
   "codemirror_mode": {
    "name": "ipython",
    "version": 3
   },
   "file_extension": ".py",
   "mimetype": "text/x-python",
   "name": "python",
   "nbconvert_exporter": "python",
   "pygments_lexer": "ipython3",
   "version": "3.8.5"
  }
 },
 "nbformat": 4,
 "nbformat_minor": 4
}
