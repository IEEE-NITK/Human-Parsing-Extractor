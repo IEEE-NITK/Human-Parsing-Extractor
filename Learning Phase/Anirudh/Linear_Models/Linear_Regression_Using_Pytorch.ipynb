{
 "cells": [
  {
   "cell_type": "code",
   "execution_count": 17,
   "metadata": {},
   "outputs": [],
   "source": [
    "# Importing Libraries\n",
    "import torch\n",
    "import numpy as np\n",
    "import pandas as pd\n",
    "import matplotlib.pyplot as plt"
   ]
  },
  {
   "cell_type": "code",
   "execution_count": 18,
   "metadata": {},
   "outputs": [],
   "source": [
    "# Import Dataset\n",
    "df = pd.read_csv('ex1data1.csv')\n",
    "\n",
    "X = torch.tensor(df['W'].values).reshape(df['W'].shape[0], 1)\n",
    "y = torch.tensor(df['Y'].values).reshape(df['Y'].shape[0], 1)\n",
    "\n",
    "X = X.float()\n",
    "y = y.float()"
   ]
  },
  {
   "cell_type": "code",
   "execution_count": 25,
   "metadata": {},
   "outputs": [],
   "source": [
    "# Linear Regression Model\n",
    "class LinearRegressionModel(torch.nn.Module):\n",
    "    def __init__(self, n_features):\n",
    "        super().__init__()\n",
    "        self.linear = torch.nn.Linear(n_features, 1)\n",
    "    \n",
    "    def forward(self, x):\n",
    "        return self.linear(x)\n",
    "  \n",
    "    def train(self, X, y, EPOCHS, learning_rate, verbose):\n",
    "        criterion = torch.nn.MSELoss()\n",
    "        optimizer = torch.optim.SGD(self.parameters(), lr = learning_rate)\n",
    "\n",
    "        for epoch in range(EPOCHS):\n",
    "            # Forward Pass\n",
    "            y_pred = self(X)\n",
    "            loss = criterion(y_pred, y)\n",
    "\n",
    "            # Backward Pass\n",
    "            optimizer.zero_grad()\n",
    "            loss.backward()\n",
    "            optimizer.step()\n",
    "\n",
    "            if epoch % (EPOCHS // verbose) == 0: \n",
    "                print(f\"Epoch : {epoch} | loss : {loss}\")\n",
    "\n",
    "        print(f\"Epoch : {EPOCHS} | loss : {loss}\")\n"
   ]
  },
  {
   "cell_type": "code",
   "execution_count": 26,
   "metadata": {},
   "outputs": [],
   "source": [
    "# Function to plot best fit curve\n",
    "def plot_curve(X, y, model):\n",
    "    y_pred = []\n",
    "\n",
    "    curve_start, _ = torch.min(X, 0)\n",
    "    curve_end, _ = torch.max(X, 0) \n",
    "\n",
    "    curve_start = int(curve_start.item()) - 2\n",
    "    curve_end = int(curve_end.item()) + 2\n",
    "\n",
    "    for x in range(curve_start, curve_end):\n",
    "        x = torch.Tensor([x])\n",
    "        y_pred.append(model(x))\n",
    "    plt.title(\"Labels vs Features\")\n",
    "    plt.xlabel(\"Features\")\n",
    "    plt.ylabel(\"Labels / Predictions\")\n",
    "    plt.scatter(X, y)\n",
    "    plt.plot(range(curve_start, curve_end), y_pred, 'k')\n",
    "    plt.show()"
   ]
  },
  {
   "cell_type": "code",
   "execution_count": 28,
   "metadata": {},
   "outputs": [
    {
     "name": "stdout",
     "output_type": "stream",
     "text": [
      "Epoch : 0 | loss : 68.39566040039062\n",
      "Epoch : 100 | loss : 9.850844383239746\n",
      "Epoch : 200 | loss : 9.389491081237793\n",
      "Epoch : 300 | loss : 9.165451049804688\n",
      "Epoch : 400 | loss : 9.056654930114746\n",
      "Epoch : 500 | loss : 9.003820419311523\n",
      "Epoch : 600 | loss : 8.978163719177246\n",
      "Epoch : 700 | loss : 8.965704917907715\n",
      "Epoch : 800 | loss : 8.959654808044434\n",
      "Epoch : 900 | loss : 8.95671558380127\n",
      "Epoch : 1000 | loss : 8.955299377441406\n"
     ]
    },
    {
     "data": {
      "image/png": "[encoded data removed]",
      "text/plain": [
       "<Figure size 432x288 with 1 Axes>"
      ]
     },
     "metadata": {
      "needs_background": "light"
     },
     "output_type": "display_data"
    }
   ],
   "source": [
    "# Model Instance\n",
    "linear_regression_model = LinearRegressionModel(1)\n",
    "linear_regression_model.train(X, y, EPOCHS = 1000, learning_rate = 0.01, verbose = 10)\n",
    "\n",
    "\n",
    "# Plotting to see the curve\n",
    "plot_curve(X, y, linear_regression_model)\n"
   ]
  }
 ],
 "metadata": {
  "kernelspec": {
   "display_name": "Python [conda env:HumanParsingIEEE] *",
   "language": "python",
   "name": "conda-env-HumanParsingIEEE-py"
  },
  "language_info": {
   "codemirror_mode": {
    "name": "ipython",
    "version": 3
   },
   "file_extension": ".py",
   "mimetype": "text/x-python",
   "name": "python",
   "nbconvert_exporter": "python",
   "pygments_lexer": "ipython3",
   "version": "3.8.5"
  }
 },
 "nbformat": 4,
 "nbformat_minor": 4
}
